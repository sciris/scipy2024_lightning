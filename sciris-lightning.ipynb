{
 "cells": [
  {
   "cell_type": "markdown",
   "metadata": {},
   "source": [
    "![Title](opening-slide.png)"
   ]
  },
  {
   "cell_type": "markdown",
   "metadata": {},
   "source": [
    "![xkcd](comic.png)"
   ]
  },
  {
   "cell_type": "code",
   "execution_count": null,
   "metadata": {},
   "outputs": [],
   "source": [
    "# Define random wave generator\n",
    "import numpy as np\n",
    "\n",
    "def randwave(std, xmin=0, xmax=10, npts=50):\n",
    "    np.random.seed(int(100*std)) # Ensure differences between runs\n",
    "    a = np.cos(np.linspace(xmin, xmax, npts))\n",
    "    b = np.random.randn(npts)\n",
    "    return a + b*std"
   ]
  },
  {
   "cell_type": "code",
   "execution_count": null,
   "metadata": {},
   "outputs": [],
   "source": [
    "# Other imports\n",
    "import sciris as sc\n",
    "\n",
    "# Start timing\n",
    "T = sc.timer()\n",
    "\n",
    "# Calculate output in parallel\n",
    "waves = sc.parallelize(randwave, np.linspace(0, 1, 11))\n",
    "\n",
    "# Save to files\n",
    "filenames = [sc.save(f'wave{i}.obj', wave) for i,wave in enumerate(waves)]\n",
    "\n",
    "# Create dict from files\n",
    "data = [sc.load(f) for f in filenames]\n",
    "\n",
    "# Create 3D plot\n",
    "sc.surf3d(data, cmap='orangeblue')\n",
    "\n",
    "# Print elapsed time\n",
    "T.toc()"
   ]
  },
  {
   "cell_type": "code",
   "execution_count": null,
   "metadata": {},
   "outputs": [],
   "source": [
    "# Other imports\n",
    "import time\n",
    "import multiprocessing as mp\n",
    "import pickle\n",
    "import gzip\n",
    "import matplotlib.pyplot as plt\n",
    "\n",
    "# Start timing\n",
    "start = time.time()\n",
    "\n",
    "# Calculate output in parallel\n",
    "multipool = mp.Pool(processes=mp.cpu_count())\n",
    "waves = multipool.map(randwave, np.linspace(0, 1, 11))\n",
    "multipool.close()\n",
    "multipool.join()\n",
    "\n",
    "# Save to files\n",
    "filenames = []\n",
    "for i,wave in enumerate(waves):\n",
    "    filename = f'wave{i}.obj'\n",
    "    with gzip.GzipFile(filename, 'wb') as fileobj:\n",
    "        fileobj.write(pickle.dumps(wave))\n",
    "    filenames.append(filename)\n",
    "\n",
    "# Create dict from files\n",
    "data_dict = {}\n",
    "for fname in filenames:\n",
    "    with gzip.GzipFile(fname) as fileobj:\n",
    "        filestring = fileobj.read()\n",
    "        data_dict[fname] = pickle.loads(filestring)\n",
    "data = np.array([data_dict[fname] for fname in filenames])\n",
    "\n",
    "# Create 3D plot\n",
    "fig = plt.figure()\n",
    "ax = plt.axes(projection='3d')\n",
    "ny,nx = np.array(data).shape\n",
    "x = np.arange(nx)\n",
    "y = np.arange(ny)\n",
    "X, Y = np.meshgrid(x, y)\n",
    "surf = ax.plot_surface(X, Y, data, cmap='coolwarm')\n",
    "fig.colorbar(surf)\n",
    "\n",
    "# Print elapsed time\n",
    "elapsed = time.time() - start\n",
    "print(f'Elapsed time: {elapsed} s')"
   ]
  },
  {
   "cell_type": "code",
   "execution_count": null,
   "metadata": {},
   "outputs": [],
   "source": [
    "import sciris as sc\n",
    "T = sc.timer()\n",
    "waves = sc.parallelize(randwave, np.linspace(0, 1, 11))\n",
    "filenames = [sc.save(f'wave{i}.obj', wave) for i,wave in enumerate(waves)]\n",
    "data = sc.odict({fname:sc.load(fname) for fname in filenames})\n",
    "sc.surf3d(data[:], cmap='orangeblue')\n",
    "T.toc()"
   ]
  }
 ],
 "metadata": {
  "kernelspec": {
   "display_name": "base",
   "language": "python",
   "name": "python3"
  },
  "language_info": {
   "codemirror_mode": {
    "name": "ipython",
    "version": 3
   },
   "file_extension": ".py",
   "mimetype": "text/x-python",
   "name": "python",
   "nbconvert_exporter": "python",
   "pygments_lexer": "ipython3",
   "version": "3.11.7"
  }
 },
 "nbformat": 4,
 "nbformat_minor": 2
}
